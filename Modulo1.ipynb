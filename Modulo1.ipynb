{
 "cells": [
  {
   "cell_type": "code",
   "execution_count": 18,
   "metadata": {},
   "outputs": [
    {
     "name": "stdout",
     "output_type": "stream",
     "text": [
      "La fecha de hoy es: 2022-02-11\n"
     ]
    }
   ],
   "source": [
    "import datetime\n",
    "\n",
    "fecha = datetime.date.today()\n",
    "\n",
    "print(\"La fecha de hoy es:\",fecha)"
   ]
  },
  {
   "cell_type": "code",
   "execution_count": 1,
   "metadata": {},
   "outputs": [
    {
     "name": "stdout",
     "output_type": "stream",
     "text": [
      "1 parsec es igual a 3.26156 años luz\n"
     ]
    }
   ],
   "source": [
    "parsec = 1\n",
    "lightyears = 3.26156\n",
    "\n",
    "conver = parsec * lightyears\n",
    "\n",
    "print(f'{parsec} parsec es igual a {conver} años luz')"
   ]
  }
 ],
 "metadata": {
  "interpreter": {
   "hash": "af1d11f93c94f5a7fb6fb141eaf14f8c836a0e70a8c2eaff020a726e9acd3026"
  },
  "kernelspec": {
   "display_name": "Python 3.8.6 64-bit",
   "language": "python",
   "name": "python3"
  },
  "language_info": {
   "codemirror_mode": {
    "name": "ipython",
    "version": 3
   },
   "file_extension": ".py",
   "mimetype": "text/x-python",
   "name": "python",
   "nbconvert_exporter": "python",
   "pygments_lexer": "ipython3",
   "version": "3.8.6"
  },
  "orig_nbformat": 4
 },
 "nbformat": 4,
 "nbformat_minor": 2
}
