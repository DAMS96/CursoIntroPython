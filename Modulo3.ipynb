{
 "cells": [
  {
   "cell_type": "code",
   "execution_count": 12,
   "metadata": {},
   "outputs": [
    {
     "name": "stdout",
     "output_type": "stream",
     "text": [
      "No hay problema alguno, el asteroide se encunetra a 150km de distancia\n"
     ]
    }
   ],
   "source": [
    "asteroide = input('Introduzca la distancia del sol para el primer planeta en KM')\n",
    "\n",
    "valor = int(asteroide)\n",
    "\n",
    "if valor <= 25:\n",
    "    print('¡ALERTA! El asteroide se encunetra a ' + str(valor) + ' km de distancia')\n",
    "else:\n",
    "    print('No hay problema alguno, el asteroide se encunetra a ' + str(valor) + 'km de distancia')\n",
    "\n"
   ]
  },
  {
   "cell_type": "code",
   "execution_count": 15,
   "metadata": {},
   "outputs": [
    {
     "name": "stdout",
     "output_type": "stream",
     "text": [
      "Sin mas noticias :D\n"
     ]
    }
   ],
   "source": [
    "valor = 1\n",
    "\n",
    "if valor > 20:\n",
    "    print('¡ALERTA! Vamos a vivir la nueva pangea')\n",
    "elif valor == 19:\n",
    "    print('¡Hay uno que se dirige a la tierra ahora a una velocidad de 19 km/s!')\n",
    "else:\n",
    "    print('Sin mas noticias :D')"
   ]
  },
  {
   "cell_type": "code",
   "execution_count": 24,
   "metadata": {},
   "outputs": [
    {
     "name": "stdout",
     "output_type": "stream",
     "text": [
      "¡Hay uno que se dirige a la tierra ahora a una velocidad de 20 km/s!\n"
     ]
    }
   ],
   "source": [
    "velocidad = 25\n",
    "dimension = 25\n",
    "\n",
    "if velocidad > 25 and dimension > 25:\n",
    "    print('¡ALERTA! Vamos a vivir la nueva pangea')\n",
    "elif velocidad >= 20:\n",
    "    print('¡Hay uno que se dirige a la tierra ahora a una velocidad de 20 km/s!')\n",
    "elif dimension < 25:\n",
    "    print('Sigue adelante :D')\n",
    "else:\n",
    "    print(':D')\n",
    "\n"
   ]
  }
 ],
 "metadata": {
  "interpreter": {
   "hash": "e9854df3a65ba31c3ce55bea099ef67dcd457d858c211b47013132475f61d3dc"
  },
  "kernelspec": {
   "display_name": "Python 3.8.6 ('env': venv)",
   "language": "python",
   "name": "python3"
  },
  "language_info": {
   "codemirror_mode": {
    "name": "ipython",
    "version": 3
   },
   "file_extension": ".py",
   "mimetype": "text/x-python",
   "name": "python",
   "nbconvert_exporter": "python",
   "pygments_lexer": "ipython3",
   "version": "3.8.6"
  },
  "orig_nbformat": 4
 },
 "nbformat": 4,
 "nbformat_minor": 2
}
