{
 "cells": [
  {
   "cell_type": "markdown",
   "metadata": {},
   "source": [
    "## Modulo 9"
   ]
  },
  {
   "cell_type": "code",
   "execution_count": 32,
   "metadata": {},
   "outputs": [
    {
     "data": {
      "text/plain": [
       "85.0"
      ]
     },
     "execution_count": 32,
     "metadata": {},
     "output_type": "execute_result"
    }
   ],
   "source": [
    "def promedio(valores):\n",
    "    total = sum(valores)\n",
    "    numero = len(valores)\n",
    "    return total / numero\n",
    "promedio([89, 85, 81]) "
   ]
  },
  {
   "cell_type": "code",
   "execution_count": 29,
   "metadata": {},
   "outputs": [
    {
     "name": "stdout",
     "output_type": "stream",
     "text": [
      "Reporte del Combustible:\n",
      "    Procentaje Total : 79.0%\n",
      "    Tanque Principal: 91%\n",
      "    Tanque Externo: 76%\n",
      "    Tanque de Hidrógeno: 70% \n",
      "    \n"
     ]
    }
   ],
   "source": [
    "def generate_report(main_tank, external_tank, hydrogen_tank):\n",
    "    return f\"\"\"Reporte del Combustible:\n",
    "    Procentaje Total : {promedio([main_tank, external_tank, hydrogen_tank])}%\n",
    "    Tanque Principal: {main_tank}%\n",
    "    Tanque Externo: {external_tank}%\n",
    "    Tanque de Hidrógeno: {hydrogen_tank}% \n",
    "    \"\"\"\n",
    "\n",
    "# Call the updated function again with different values\n",
    "print(generate_report(91, 76, 70))"
   ]
  },
  {
   "cell_type": "code",
   "execution_count": 31,
   "metadata": {},
   "outputs": [
    {
     "name": "stdout",
     "output_type": "stream",
     "text": [
      "Mision a Saturno:\n",
      "    Tiempo total de la mision: 186 minutos\n",
      "    Total de Combustible restante: 3290 galones\n",
      "    Tanque Principal  -->  3089 galones \n",
      "    Tanque Externo  -->  201 galones \n",
      "    \n"
     ]
    }
   ],
   "source": [
    "def mission_report(destination, *minutes, **fuel_reservoirs):\n",
    "    main_report = f\"\"\"Mision a {destination}:\n",
    "    Tiempo total de la mision: {sum(minutes)} minutos\n",
    "    Total de Combustible restante: {sum(fuel_reservoirs.values())} galones\n",
    "    \"\"\"\n",
    "    for tank_name, gallons in fuel_reservoirs.items():\n",
    "        main_report += f\"Tanque {tank_name}  -->  {gallons} galones \\n    \"\n",
    "    return main_report\n",
    "\n",
    "print(mission_report(\"Saturno\", 10, 111, 65, Principal = 3089, Externo = 201))"
   ]
  }
 ],
 "metadata": {
  "interpreter": {
   "hash": "af1d11f93c94f5a7fb6fb141eaf14f8c836a0e70a8c2eaff020a726e9acd3026"
  },
  "kernelspec": {
   "display_name": "Python 3.8.6 64-bit",
   "language": "python",
   "name": "python3"
  },
  "language_info": {
   "codemirror_mode": {
    "name": "ipython",
    "version": 3
   },
   "file_extension": ".py",
   "mimetype": "text/x-python",
   "name": "python",
   "nbconvert_exporter": "python",
   "pygments_lexer": "ipython3",
   "version": "3.8.6"
  },
  "orig_nbformat": 4
 },
 "nbformat": 4,
 "nbformat_minor": 2
}
