{
 "cells": [
  {
   "cell_type": "markdown",
   "metadata": {},
   "source": [
    "## MODULO 5"
   ]
  },
  {
   "cell_type": "code",
   "execution_count": 1,
   "metadata": {},
   "outputs": [
    {
     "name": "stdout",
     "output_type": "stream",
     "text": [
      "La distancia entre la tierra y jupiter es de 628949330 km o 390577534 mph\n"
     ]
    }
   ],
   "source": [
    "tierra = 149597870\n",
    "jupiter = 778547200\n",
    "\n",
    "distanciaKM = jupiter - tierra\n",
    "distanciaMPH = distanciaKM * 0.621\n",
    "\n",
    "print(f'La distancia entre la tierra y jupiter es de {distanciaKM} km o {round(distanciaMPH)} mph')\n"
   ]
  },
  {
   "cell_type": "code",
   "execution_count": 1,
   "metadata": {},
   "outputs": [
    {
     "data": {
      "text/plain": [
       "'La distancia entre 6487 y 789 es de 5698 km o de 3538.458 mph'"
      ]
     },
     "execution_count": 1,
     "metadata": {},
     "output_type": "execute_result"
    }
   ],
   "source": [
    "primerPlaneta = input('Introduzca la distancia del sol para el primer planeta en KM')\n",
    "segundoPlaneta = input('Introduzca la distancia desde el sol para el segundo planeta en KM')\n",
    "\n",
    "primerPlaneta = int(primerPlaneta)\n",
    "segundoPlaneta = int(segundoPlaneta)\n",
    "\n",
    "distanciaKM = segundoPlaneta - primerPlaneta\n",
    "distanciaMPH = distanciaKM * 0.621\n",
    "\n",
    "print(f'La distancia entre {segundoPlaneta} y {primerPlaneta} es de {distanciaKM} km o de {abs(distanciaMPH)} mph')"
   ]
  }
 ],
 "metadata": {
  "interpreter": {
   "hash": "af1d11f93c94f5a7fb6fb141eaf14f8c836a0e70a8c2eaff020a726e9acd3026"
  },
  "kernelspec": {
   "display_name": "Python 3.8.6 64-bit",
   "language": "python",
   "name": "python3"
  },
  "language_info": {
   "codemirror_mode": {
    "name": "ipython",
    "version": 3
   },
   "file_extension": ".py",
   "mimetype": "text/x-python",
   "name": "python",
   "nbconvert_exporter": "python",
   "pygments_lexer": "ipython3",
   "version": "3.8.6"
  },
  "orig_nbformat": 4
 },
 "nbformat": 4,
 "nbformat_minor": 2
}
